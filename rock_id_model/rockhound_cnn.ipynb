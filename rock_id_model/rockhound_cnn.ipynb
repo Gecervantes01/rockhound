{
 "cells": [
  {
   "cell_type": "markdown",
   "metadata": {},
   "source": [
    "## Rockhound Convolutional Neural Network\n",
    "Author: Giovan Cervantes\n",
    "\n",
    "#### __Description:__\n",
    "The purpose of this cnn is to accurately identify minerals in photographs. This task boils down to classification, which is why I'm using a cnn as apposed to other types of neural networks. As the name suggests Cnn's have a convolutional layer which help pick up on spatial features, something a standard Neural Network can't do.\n",
    "\n",
    "#### __Dataset Details__\n",
    "The data consists of labeled images of rocks and minerals organized by their respective types.\n",
    "\n",
    "There are two sets of data, the [__training data__](#training-data-processing) and the [__testing data__](#test-data-processing). Each set follows the same structure outlined above, with the only difference coming from how the images are preprocessed. <br><br>\n",
    "\n",
    "#### __Challenges:__\n",
    "Since the input data consists of images of rocks, the first challenge was collecting enough data to effectively train the model. This involved carefully selecting appropriate images for each class and deciding how in depth the class structure should be.\n",
    "\n",
    "This ties directly into the second challenge: achieving decent model accuracy. Convolutional neural networks (CNNs) require a substantial amount of data to train effectively, and the nature of the classification target — rocks — adds complexity. Rocks within the same class can vary significantly in color, texture, and shape, making it difficult for the model to generalize and accurately differentiate between them.\n",
    "<br><br>\n",
    "\n",
    "***"
   ]
  },
  {
   "cell_type": "markdown",
   "metadata": {},
   "source": [
    "#### Step 1: Load Dataset\n",
    "Here I'm looping through the dataset folder, creating a list of image paths and corresponding labels."
   ]
  },
  {
   "cell_type": "code",
   "execution_count": 7,
   "metadata": {},
   "outputs": [],
   "source": [
    "import os\n",
    "from PIL import Image\n",
    "import numpy as np\n",
    "from tensorflow.keras.preprocessing.image import load_img, img_to_array\n",
    "from sklearn.model_selection import train_test_split"
   ]
  },
  {
   "cell_type": "code",
   "execution_count": 22,
   "metadata": {},
   "outputs": [],
   "source": [
    "#Path to the dataset\n",
    "dataset_path = './dataset/'\n",
    "\n",
    "# Defining 2 arrays to eventually store image paths and labels\n",
    "image_paths = []\n",
    "image_labels = []\n",
    "\n",
    "# Const variable for image size\n",
    "IMAGE_SIZE = 256\n",
    "\n",
    "# Collect image paths and labels\n",
    "for folder in os.listdir(dataset_path):\n",
    "    folder_path = os.path.join(dataset_path, folder)\n",
    "\n",
    "    # Check if folder_path is a directory\n",
    "    if os.path.isdir(folder_path):\n",
    "        for subfolder in os.listdir(folder_path):\n",
    "            subfolder_path = os.path.join(folder_path, subfolder)\n",
    "            subfolder_path = os.path.normpath(subfolder_path).replace('\\\\', '/')\n",
    "\n",
    "            # Store the path and label (class name)\n",
    "            class_name = folder\n",
    "            image_paths.append(subfolder_path)\n",
    "            image_labels.append(class_name)\n"
   ]
  },
  {
   "cell_type": "markdown",
   "metadata": {},
   "source": [
    "#### Step 2: Splitting dataset\n",
    "The second step is to split the data into a set for training and a set for testing. This can be done manually, but instead I'm going to utilize scikit-learn's `train_test_split()` method with an 80/20 split (80% used for training and 20% for testing)."
   ]
  },
  {
   "cell_type": "code",
   "execution_count": 28,
   "metadata": {},
   "outputs": [],
   "source": [
    "# Split the data into train and test sets\n",
    "X_train, X_test, y_train, y_test = train_test_split(\n",
    "    image_paths, \n",
    "    image_labels, \n",
    "    test_size=0.2, \n",
    "    stratify=image_labels, \n",
    "    random_state=42\n",
    ")\n",
    "\n",
    "# Resize images and convert them to NumPy arrays for training\n",
    "X_train = np.array([img_to_array(load_img(img_path, target_size=(IMAGE_SIZE, IMAGE_SIZE))) for img_path in X_train])\n",
    "X_test = np.array([img_to_array(load_img(img_path, target_size=(IMAGE_SIZE, IMAGE_SIZE))) for img_path in X_test])"
   ]
  },
  {
   "cell_type": "markdown",
   "metadata": {},
   "source": [
    "I use `LabelEncoder` and `to_categorical` to convert the labels from a string to an integer and ultimately into one-hot encoded labels. Then aftwerwards print the shape of the data and labels to confirm correct format."
   ]
  },
  {
   "cell_type": "code",
   "execution_count": 29,
   "metadata": {},
   "outputs": [
    {
     "name": "stdout",
     "output_type": "stream",
     "text": [
      "Data: \n",
      "Num of images | width & height(px) | input channel\n",
      "---------------------------------------------------------\n",
      "X_train shape: (32, 256, 256, 3)\n",
      "X_test shape: (8, 256, 256, 3)\n",
      "\n",
      "Labels: \n",
      "Num of labels | Num of classes\n",
      "---------------------------------------------------------\n",
      "y_train: (32, 4)\n",
      "y_test: (8, 4)\n"
     ]
    }
   ],
   "source": [
    "from sklearn.preprocessing import LabelEncoder\n",
    "from tensorflow.keras.utils import to_categorical\n",
    "\n",
    "NUM_CLASSES = 4\n",
    "\n",
    "label_encoder = LabelEncoder()\n",
    "y_train_encoded = label_encoder.fit_transform(y_train)\n",
    "y_test_encoded = label_encoder.transform(y_test)\n",
    "\n",
    "y_train = to_categorical(y_train_encoded, num_classes=NUM_CLASSES)\n",
    "y_test = to_categorical(y_test_encoded, num_classes=NUM_CLASSES)\n",
    "\n",
    "# Check the shapes of the one-hot encoded labels\n",
    "print(\"Data: \\nNum of images | width & height(px) | input channel\")\n",
    "print(\"---------------------------------------------------------\")\n",
    "print(\"X_train shape:\", X_train.shape)\n",
    "print(\"X_test shape:\", X_test.shape)\n",
    "print(\"\\nLabels: \\nNum of labels | Num of classes\")\n",
    "print(\"---------------------------------------------------------\")\n",
    "print(\"y_train:\", y_train.shape)\n",
    "print(\"y_test:\", y_test.shape)\n",
    "\n"
   ]
  },
  {
   "cell_type": "markdown",
   "metadata": {},
   "source": [
    "#### Step 3: Transforming Data\n",
    "Below I'm defining the transformations to be applied during training, here's a breakdown of each transformation:\n",
    "- __`rescale`__ <br>\n",
    "This normalizes the data, rather than a range of 0 to 255 for rgb it's now 0 to 1.\n",
    "<br><br>\n",
    "- __`horizontal_flip` & `rotation_range`__ <br>\n",
    "Both of these functions are used to provide more variety to the small dataset, artificially 'increasing' the size.\n",
    "<br><br>\n",
    "- __`fill_mode`__ <br>\n",
    "Due to the augmentation, there may be a chance of pixels missing when the image is rotated, so this just fills in those pixels."
   ]
  },
  {
   "cell_type": "code",
   "execution_count": 30,
   "metadata": {},
   "outputs": [],
   "source": [
    "import tensorflow as tf\n",
    "from tensorflow.keras.preprocessing.image import ImageDataGenerator\n",
    "\n",
    "preprocess_data = ImageDataGenerator(\n",
    "    rescale=1./255,\n",
    "    rotation_range=(10),\n",
    "    horizontal_flip=True,\n",
    "    fill_mode='nearest'\n",
    ")"
   ]
  },
  {
   "cell_type": "markdown",
   "metadata": {},
   "source": [
    "#### Step 4: Define Model"
   ]
  },
  {
   "cell_type": "code",
   "execution_count": 31,
   "metadata": {},
   "outputs": [],
   "source": [
    "import tensorflow as tf\n",
    "from tensorflow.keras.models import Sequential\n",
    "from tensorflow.keras.layers import Conv2D, MaxPooling2D, Flatten, Dense, Dropout\n",
    "from keras.regularizers import l2\n",
    "from tensorflow.keras.callbacks import EarlyStopping, ModelCheckpoint\n",
    "from keras.layers import BatchNormalization\n",
    "from tensorflow.keras.models import load_model"
   ]
  },
  {
   "cell_type": "code",
   "execution_count": 42,
   "metadata": {},
   "outputs": [
    {
     "name": "stderr",
     "output_type": "stream",
     "text": [
      "c:\\Users\\Giovan\\Documents\\School\\SDEV-450\\rockhound\\.venv\\Lib\\site-packages\\keras\\src\\layers\\core\\dense.py:87: UserWarning: Do not pass an `input_shape`/`input_dim` argument to a layer. When using Sequential models, prefer using an `Input(shape)` object as the first layer in the model instead.\n",
      "  super().__init__(activity_regularizer=activity_regularizer, **kwargs)\n"
     ]
    }
   ],
   "source": [
    "rockhound_model = Sequential([\n",
    "\n",
    "    Dense(128, activation='relu', input_shape=(IMAGE_SIZE, IMAGE_SIZE, 3)),\n",
    "    Dropout(0.3),\n",
    "    # Convolutional layer 1\n",
    "    Conv2D(64, (3, 3), activation='relu', padding='same'),\n",
    "    MaxPooling2D(pool_size=(2, 2)),\n",
    "    \n",
    "    # Convolutional layer 2\n",
    "    Conv2D(64, (3, 3), activation='relu', padding='same'),\n",
    "    MaxPooling2D(pool_size=(2, 2)),\n",
    "    \n",
    "    # Flatten the output\n",
    "    Flatten(),\n",
    "    \n",
    "    # Fully connected layer 1\n",
    "    Dense(128, activation='relu'),\n",
    "    \n",
    "    # Fully connected layer 2 (output layer)\n",
    "    Dense(NUM_CLASSES, activation='softmax')\n",
    "])"
   ]
  },
  {
   "cell_type": "code",
   "execution_count": null,
   "metadata": {},
   "outputs": [],
   "source": [
    "LEARNING_RATE = 0.001\n",
    "\n",
    "# Initialize loss function, and optimizer\n",
    "rockhound_model.compile(\n",
    "    optimizer='adam',\n",
    "    loss='categorical_crossentropy',\n",
    "    metrics=['accuracy']\n",
    ")"
   ]
  },
  {
   "cell_type": "markdown",
   "metadata": {},
   "source": [
    "#### Step 5: Training Model"
   ]
  },
  {
   "cell_type": "code",
   "execution_count": 44,
   "metadata": {},
   "outputs": [
    {
     "name": "stdout",
     "output_type": "stream",
     "text": [
      "Epoch 1/10\n",
      "\u001b[1m32/32\u001b[0m \u001b[32m━━━━━━━━━━━━━━━━━━━━\u001b[0m\u001b[37m\u001b[0m \u001b[1m6s\u001b[0m 173ms/step - accuracy: 0.3966 - loss: 1833.2682 - val_accuracy: 0.2500 - val_loss: 1.3016\n",
      "Epoch 2/10\n",
      "\u001b[1m32/32\u001b[0m \u001b[32m━━━━━━━━━━━━━━━━━━━━\u001b[0m\u001b[37m\u001b[0m \u001b[1m5s\u001b[0m 166ms/step - accuracy: 0.4371 - loss: 1.2695 - val_accuracy: 0.3750 - val_loss: 1.3101\n",
      "Epoch 3/10\n",
      "\u001b[1m32/32\u001b[0m \u001b[32m━━━━━━━━━━━━━━━━━━━━\u001b[0m\u001b[37m\u001b[0m \u001b[1m5s\u001b[0m 166ms/step - accuracy: 0.5995 - loss: 0.9171 - val_accuracy: 0.3750 - val_loss: 1.2905\n",
      "Epoch 4/10\n",
      "\u001b[1m32/32\u001b[0m \u001b[32m━━━━━━━━━━━━━━━━━━━━\u001b[0m\u001b[37m\u001b[0m \u001b[1m5s\u001b[0m 168ms/step - accuracy: 0.6265 - loss: 0.8757 - val_accuracy: 0.2500 - val_loss: 1.3868\n",
      "Epoch 5/10\n",
      "\u001b[1m32/32\u001b[0m \u001b[32m━━━━━━━━━━━━━━━━━━━━\u001b[0m\u001b[37m\u001b[0m \u001b[1m5s\u001b[0m 167ms/step - accuracy: 0.4910 - loss: 1.0957 - val_accuracy: 0.3750 - val_loss: 1.3486\n",
      "Epoch 6/10\n",
      "\u001b[1m32/32\u001b[0m \u001b[32m━━━━━━━━━━━━━━━━━━━━\u001b[0m\u001b[37m\u001b[0m \u001b[1m5s\u001b[0m 166ms/step - accuracy: 0.6673 - loss: 9.2373 - val_accuracy: 0.2500 - val_loss: 1.4315\n",
      "Epoch 7/10\n",
      "\u001b[1m32/32\u001b[0m \u001b[32m━━━━━━━━━━━━━━━━━━━━\u001b[0m\u001b[37m\u001b[0m \u001b[1m5s\u001b[0m 165ms/step - accuracy: 0.6228 - loss: 1.0248 - val_accuracy: 0.3750 - val_loss: 1.2424\n",
      "Epoch 8/10\n",
      "\u001b[1m32/32\u001b[0m \u001b[32m━━━━━━━━━━━━━━━━━━━━\u001b[0m\u001b[37m\u001b[0m \u001b[1m5s\u001b[0m 168ms/step - accuracy: 0.6337 - loss: 0.6929 - val_accuracy: 0.3750 - val_loss: 1.0655\n",
      "Epoch 9/10\n",
      "\u001b[1m32/32\u001b[0m \u001b[32m━━━━━━━━━━━━━━━━━━━━\u001b[0m\u001b[37m\u001b[0m \u001b[1m5s\u001b[0m 166ms/step - accuracy: 0.8879 - loss: 0.3460 - val_accuracy: 0.2500 - val_loss: 2.2441\n",
      "Epoch 10/10\n",
      "\u001b[1m32/32\u001b[0m \u001b[32m━━━━━━━━━━━━━━━━━━━━\u001b[0m\u001b[37m\u001b[0m \u001b[1m5s\u001b[0m 167ms/step - accuracy: 0.6579 - loss: 24.0667 - val_accuracy: 0.1250 - val_loss: 11.7572\n"
     ]
    }
   ],
   "source": [
    "# Const variables for fine tuning\n",
    "NUM_EPOCHS = 10\n",
    "BATCH_SIZE = 1\n",
    "\n",
    "history_cnn = rockhound_model.fit(\n",
    "    X_train,\n",
    "    y_train, \n",
    "    epochs=NUM_EPOCHS,\n",
    "    batch_size=BATCH_SIZE,\n",
    "    validation_data=(X_test, y_test)\n",
    ")"
   ]
  },
  {
   "cell_type": "markdown",
   "metadata": {},
   "source": [
    "#### Step 6: Evaluate Model"
   ]
  },
  {
   "cell_type": "code",
   "execution_count": 45,
   "metadata": {},
   "outputs": [
    {
     "data": {
      "image/png": "[encoded data removed]",
      "text/plain": [
       "<Figure size 1000x600 with 1 Axes>"
      ]
     },
     "metadata": {},
     "output_type": "display_data"
    }
   ],
   "source": [
    "import matplotlib.pyplot as plt\n",
    "\n",
    "# Plotting training loss vs validation loss\n",
    "plt.figure(figsize=(10, 6))\n",
    "plt.plot(history_cnn.history['accuracy'], label='Training Accuracy')\n",
    "plt.plot(history_cnn.history['val_accuracy'], label='Validation Accuracy')\n",
    "plt.xlabel('Epoch')\n",
    "plt.ylabel('Accuracy')\n",
    "plt.legend(loc='lower right')\n",
    "plt.show()"
   ]
  },
  {
   "cell_type": "code",
   "execution_count": 11,
   "metadata": {},
   "outputs": [
    {
     "ename": "ModuleNotFoundError",
     "evalue": "No module named 'torch'",
     "output_type": "error",
     "traceback": [
      "\u001b[1;31m---------------------------------------------------------------------------\u001b[0m",
      "\u001b[1;31mModuleNotFoundError\u001b[0m                       Traceback (most recent call last)",
      "Cell \u001b[1;32mIn[11], line 1\u001b[0m\n\u001b[1;32m----> 1\u001b[0m \u001b[38;5;28;01mimport\u001b[39;00m \u001b[38;5;21;01mtorch\u001b[39;00m\n\u001b[0;32m      2\u001b[0m \u001b[38;5;28;01mfrom\u001b[39;00m \u001b[38;5;21;01msklearn\u001b[39;00m\u001b[38;5;21;01m.\u001b[39;00m\u001b[38;5;21;01mmetrics\u001b[39;00m \u001b[38;5;28;01mimport\u001b[39;00m confusion_matrix\n\u001b[0;32m      3\u001b[0m \u001b[38;5;28;01mimport\u001b[39;00m \u001b[38;5;21;01mseaborn\u001b[39;00m \u001b[38;5;28;01mas\u001b[39;00m \u001b[38;5;21;01msns\u001b[39;00m\n",
      "\u001b[1;31mModuleNotFoundError\u001b[0m: No module named 'torch'"
     ]
    }
   ],
   "source": [
    "import torch\n",
    "from sklearn.metrics import confusion_matrix\n",
    "import seaborn as sns\n",
    "import matplotlib.pyplot as plt\n",
    "\n",
    "# Ensure the model is in evaluation mode\n",
    "model.eval()\n",
    "\n",
    "all_predictions = []\n",
    "all_labels = []\n",
    "\n",
    "# No gradient computation during evaluation\n",
    "with torch.no_grad():\n",
    "    for data in test_loader:\n",
    "        images = data[0].to(device)\n",
    "        labels = data[1]\n",
    "\n",
    "        # Convert labels to indices\n",
    "        numeric_labels = [label_map[label] for label in labels]\n",
    "        labels_tensor = torch.tensor(numeric_labels, dtype=torch.long).to(device)\n",
    "\n",
    "        # Forward pass\n",
    "        outputs = model(images)\n",
    "        _, predicted = torch.max(outputs, 1)\n",
    "\n",
    "        # Collect predictions and labels\n",
    "        all_predictions.extend(predicted.cpu().numpy())\n",
    "        all_labels.extend(labels_tensor.cpu().numpy())\n",
    "\n",
    "\n",
    "# Create confusion matrix\n",
    "cm = confusion_matrix(all_labels, all_predictions)\n",
    "\n",
    "# Function to plot confusion matrix\n",
    "def plot_confusion_matrix(cm, classes):\n",
    "    plt.figure(figsize=(10, 8))\n",
    "    sns.heatmap(cm, annot=True, fmt='d', cmap='Blues',\n",
    "                xticklabels=classes, yticklabels=classes)\n",
    "    plt.ylabel('True label')\n",
    "    plt.xlabel('Predicted label')\n",
    "    plt.title('Confusion Matrix')\n",
    "    plt.show()\n",
    "\n",
    "# Class names corresponding to your labels\n",
    "class_names = ['chalcedony', 'jasper', 'petrifiedwood', 'quartz']\n",
    "\n",
    "# Plot the confusion matrix\n",
    "plot_confusion_matrix(cm, class_names)\n",
    "\n"
   ]
  },
  {
   "cell_type": "markdown",
   "metadata": {},
   "source": [
    "#### Breakdown of Results\n",
    "- __Accuracy__: <br>\n",
    "So far, the high is 75%, with an average of about 63%. The best parameters seem to be a batch size of 10, epoch of 7, and a learning rate of 0.001\n",
    "    - updated results (11/18/2024): the new high is 87% after incorporating early-stopping."
   ]
  }
 ],
 "metadata": {
  "kernelspec": {
   "display_name": ".venv",
   "language": "python",
   "name": "python3"
  },
  "language_info": {
   "codemirror_mode": {
    "name": "ipython",
    "version": 3
   },
   "file_extension": ".py",
   "mimetype": "text/x-python",
   "name": "python",
   "nbconvert_exporter": "python",
   "pygments_lexer": "ipython3",
   "version": "3.11.0"
  }
 },
 "nbformat": 4,
 "nbformat_minor": 2
}
