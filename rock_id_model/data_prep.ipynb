{
 "cells": [
  {
   "cell_type": "markdown",
   "metadata": {},
   "source": [
    "## Data Preprocessing\n",
    "This notebook handles the preprocessing of the dataset that is used to train the model.\n",
    "<br><br>\n",
    "\n",
    "### __Dataset Details__\n",
    "The data consists of labeled images of rocks and minerals organized by their respective types.\n",
    "\n",
    "There are two sets of data, the [__training data__](#training-data-processing) and the [__testing data__](#test-data-processing). Each set follows the same structure outlined above, with the only difference coming from how the images are preprocessed. <br><br>\n",
    "\n",
    "### __Preprocessing Transformations__\n",
    "#### Resizing\n",
    "Image size affects a variety of factors when it comes to training a model, but mainly __performance__ and __detail__. Due to rocks and minerals being the target of identification, i'll be training the model with an image size of __256px x 256px__. This will add more detail for the model to train on, which will hopefully translate to improved accuracy when fed sub-optimal images to identify.\n",
    "<br><br>\n",
    "\n",
    "#### Augmentation\n",
    "Both the `.RandomHorizontalFlip()` and `.RandomRotation()` functions are used to augment the images, providing the model with a greater variety of training data from a limited orignal dataset.\n",
    "<br><br>\n",
    "\n",
    "#### Tensor Conversion\n",
    "...\n",
    "<br><br>\n",
    "\n",
    "#### Normalization\n",
    "...\n",
    "\n",
    "***"
   ]
  },
  {
   "cell_type": "markdown",
   "metadata": {},
   "source": [
    "### Step 1: Splitting dataset\n",
    "The first step is to split the data into a set for training and a set for testing. This can be done manually, but instead I'm going to utilize scikit-learn's `train_test_split()` method with an 80/20 split (80% used for training and 20% for testing)."
   ]
  },
  {
   "cell_type": "code",
   "execution_count": 1,
   "metadata": {},
   "outputs": [],
   "source": [
    "import os\n",
    "from sklearn.model_selection import train_test_split"
   ]
  },
  {
   "cell_type": "code",
   "execution_count": 2,
   "metadata": {},
   "outputs": [],
   "source": [
    "# Path to the dataset\n",
    "dataset_path = '.\\\\wa_spec_dataset'\n",
    "\n",
    "# Defining 2 arrays to eventually store image paths and labels\n",
    "image_paths = []\n",
    "image_labels = []\n",
    "\n",
    "for folder in os.listdir(dataset_path):\n",
    "    folder_path = os.path.join(dataset_path, folder)\n",
    "\n",
    "    # Check if folder_path is a directory\n",
    "    if os.path.isdir(folder_path):\n",
    "        for subfolder in os.listdir(folder_path):\n",
    "            subfolder_path = os.path.join(folder_path, subfolder)\n",
    "            class_name = os.path.basename(os.path.dirname(subfolder)).split('_')[0]\n",
    "\n",
    "            image_paths.append(subfolder_path)\n",
    "            image_labels.append(subfolder.split('_')[0])\n",
    "\n",
    "# Using the train_test_split() method to split the data\n",
    "X_train, X_test, y_train, y_test = train_test_split(image_paths, image_labels, test_size=0.2, stratify=image_labels, random_state=42)"
   ]
  },
  {
   "cell_type": "markdown",
   "metadata": {},
   "source": [
    "### Step 2: Processing The Data"
   ]
  },
  {
   "cell_type": "code",
   "execution_count": 3,
   "metadata": {},
   "outputs": [],
   "source": [
    "# Using PyTorch to preprocess images\n",
    "from torchvision import transforms\n",
    "from torchvision import datasets\n",
    "from PIL import Image\n",
    "from torch.utils.data import Dataset, DataLoader\n",
    "\n",
    "# Const variables for img size and batch size\n",
    "IMAGE_SIZE = 256\n",
    "BATCH_SIZE = 10"
   ]
  },
  {
   "cell_type": "markdown",
   "metadata": {},
   "source": [
    "#### Defining Transformations"
   ]
  },
  {
   "cell_type": "code",
   "execution_count": 4,
   "metadata": {},
   "outputs": [],
   "source": [
    "training_data_processing = transforms.Compose([\n",
    "    transforms.Resize((IMAGE_SIZE, IMAGE_SIZE)),\n",
    "    transforms.RandomHorizontalFlip(),\n",
    "    transforms.RandomRotation(10),\n",
    "    transforms.ToTensor(),\n",
    "    transforms.Normalize(mean=[0.5, 0.5, 0.5], std=[0.5, 0.5, 0.5])\n",
    "])\n",
    "\n",
    "# Essentially the same, but without the augmentation\n",
    "test_data_processing = transforms.Compose([\n",
    "    transforms.Resize((IMAGE_SIZE, IMAGE_SIZE)),\n",
    "    transforms.ToTensor(),\n",
    "    transforms.Normalize(mean=[0.5, 0.5, 0.5], std=[0.5, 0.5, 0.5])\n",
    "])\n"
   ]
  },
  {
   "cell_type": "code",
   "execution_count": 5,
   "metadata": {},
   "outputs": [],
   "source": [
    "class CustomDataset(Dataset):\n",
    "    def __init__(self, image_paths, labels, transform=None):\n",
    "        self.image_paths = image_paths\n",
    "        self.labels = labels\n",
    "        self.transform = transform\n",
    "\n",
    "    def __len__(self):\n",
    "        return len(self.image_paths)\n",
    "\n",
    "    def __getitem__(self, idx):\n",
    "        img_path = self.image_paths[idx]\n",
    "        image = Image.open(img_path).convert(\"RGB\")\n",
    "\n",
    "        if self.transform:\n",
    "            image = self.transform(image)\n",
    "\n",
    "        label = self.labels[idx]\n",
    "        return image, label\n",
    "\n",
    "# Creating dataset instances, using the appropriate transformations\n",
    "# that I defined above.\n",
    "train_dataset = CustomDataset(X_train, y_train, transform=training_data_processing)\n",
    "test_dataset = CustomDataset(X_test, y_test, transform=test_data_processing)\n",
    "\n",
    "# Create DataLoaders\n",
    "train_loader = DataLoader(dataset=train_dataset, batch_size=BATCH_SIZE, shuffle=True)\n",
    "test_loader = DataLoader(dataset=test_dataset, batch_size=BATCH_SIZE, shuffle=False)"
   ]
  },
  {
   "cell_type": "code",
   "execution_count": 6,
   "metadata": {},
   "outputs": [
    {
     "data": {
      "text/plain": [
       "RockHoundCNN(\n",
       "  (conv1): Conv2d(3, 32, kernel_size=(3, 3), stride=(1, 1), padding=(1, 1))\n",
       "  (pool): MaxPool2d(kernel_size=2, stride=2, padding=0, dilation=1, ceil_mode=False)\n",
       "  (conv2): Conv2d(32, 64, kernel_size=(3, 3), stride=(1, 1), padding=(1, 1))\n",
       "  (fc1): Linear(in_features=262144, out_features=128, bias=True)\n",
       "  (fc2): Linear(in_features=128, out_features=4, bias=True)\n",
       ")"
      ]
     },
     "execution_count": 6,
     "metadata": {},
     "output_type": "execute_result"
    }
   ],
   "source": [
    "from rockhound_cnn import RockHoundCNN\n",
    "import torch\n",
    "import torch.nn as nn\n",
    "import torch.optim as optim\n",
    "\n",
    "# Initialize model, loss function, and optimizer\n",
    "num_classes = len(set(image_labels))  # Get the number of unique classes\n",
    "model = RockHoundCNN(num_classes)\n",
    "\n",
    "criterion = nn.CrossEntropyLoss()  # Suitable for multi-class classification\n",
    "optimizer = optim.Adam(model.parameters(), lr=0.001)  # You can adjust the learning rate\n",
    "\n",
    "# Move model to GPU if available\n",
    "device = torch.device('cuda' if torch.cuda.is_available() else 'cpu')\n",
    "model.to(device)\n"
   ]
  },
  {
   "cell_type": "code",
   "execution_count": null,
   "metadata": {},
   "outputs": [
    {
     "name": "stdout",
     "output_type": "stream",
     "text": [
      "Shape before fc1: torch.Size([10, 262144])\n",
      "Shape before fc1: torch.Size([10, 262144])\n",
      "Shape before fc1: torch.Size([10, 262144])\n",
      "Shape before fc1: torch.Size([2, 262144])\n",
      "Epoch [1/7], Loss: 0.1711\n",
      "Shape before fc1: torch.Size([10, 262144])\n",
      "Shape before fc1: torch.Size([10, 262144])\n",
      "Shape before fc1: torch.Size([10, 262144])\n",
      "Shape before fc1: torch.Size([2, 262144])\n",
      "Epoch [2/7], Loss: 0.0572\n",
      "Shape before fc1: torch.Size([10, 262144])\n",
      "Shape before fc1: torch.Size([10, 262144])\n",
      "Shape before fc1: torch.Size([10, 262144])\n",
      "Shape before fc1: torch.Size([2, 262144])\n",
      "Epoch [3/7], Loss: 0.1363\n",
      "Shape before fc1: torch.Size([10, 262144])\n",
      "Shape before fc1: torch.Size([10, 262144])\n",
      "Shape before fc1: torch.Size([10, 262144])\n",
      "Shape before fc1: torch.Size([2, 262144])\n",
      "Epoch [4/7], Loss: 0.0104\n",
      "Shape before fc1: torch.Size([10, 262144])\n",
      "Shape before fc1: torch.Size([10, 262144])\n",
      "Shape before fc1: torch.Size([10, 262144])\n",
      "Shape before fc1: torch.Size([2, 262144])\n",
      "Epoch [5/7], Loss: 0.0112\n",
      "Shape before fc1: torch.Size([10, 262144])\n",
      "Shape before fc1: torch.Size([10, 262144])\n",
      "Shape before fc1: torch.Size([10, 262144])\n",
      "Shape before fc1: torch.Size([2, 262144])\n",
      "Epoch [6/7], Loss: 0.0318\n",
      "Shape before fc1: torch.Size([10, 262144])\n",
      "Shape before fc1: torch.Size([10, 262144])\n",
      "Shape before fc1: torch.Size([10, 262144])\n",
      "Shape before fc1: torch.Size([2, 262144])\n",
      "Epoch [7/7], Loss: 0.0033\n"
     ]
    }
   ],
   "source": [
    "# Create a label mapping\n",
    "label_map = {'chalcedony': 0, 'jasper': 1, 'petrifiedwood': 2, 'quartz': 3}\n",
    "\n",
    "# The number of times the Model goes through the training data\n",
    "# REMINDER: Continue to test different epoch nums\n",
    "num_epochs = 7\n",
    "\n",
    "# Move model to GPU if available\n",
    "device = torch.device('cuda' if torch.cuda.is_available() else 'cpu')\n",
    "model.to(device)\n",
    "\n",
    "for epoch in range(num_epochs):\n",
    "    model.train()  # Set the model to training mode\n",
    "    running_loss = 0.0\n",
    "    \n",
    "    for data in train_loader:\n",
    "        images = data[0].to(device)  # Move images to the device\n",
    "\n",
    "        # Convert labels to numeric using the label mapping\n",
    "        numeric_labels = [label_map[label] for label in data[1]]  # Convert to numeric labels\n",
    "        labels = torch.tensor(numeric_labels, dtype=torch.long).to(device)  # Create tensor from numeric labels\n",
    "        \n",
    "        # Zero the parameter gradients\n",
    "        optimizer.zero_grad()\n",
    "        \n",
    "        # Forward pass\n",
    "        outputs = model(images)\n",
    "        loss = criterion(outputs, labels)\n",
    "        \n",
    "        # Backward pass and optimization\n",
    "        loss.backward()\n",
    "        optimizer.step()\n",
    "        \n",
    "        running_loss += loss.item()\n",
    "    \n",
    "    # Print loss for the epoch\n",
    "    # loss refers to the performance of the model after each epoch\n",
    "    # typically better to see a decreasing loss\n",
    "    print(f\"Epoch [{epoch + 1}/{num_epochs}], Loss: {running_loss / len(train_loader):.4f}\")\n",
    "\n",
    "\n"
   ]
  },
  {
   "cell_type": "code",
   "execution_count": 11,
   "metadata": {},
   "outputs": [
    {
     "name": "stdout",
     "output_type": "stream",
     "text": [
      "Shape before fc1: torch.Size([8, 262144])\n",
      "Test data model accuracy: 75.00%\n"
     ]
    }
   ],
   "source": [
    "model.eval()\n",
    "correct = 0\n",
    "total = 0\n",
    "\n",
    "# Create the label mapping for evaluation\n",
    "label_map = {'chalcedony': 0, 'jasper': 1, 'petrifiedwood': 2, 'quartz': 3}\n",
    "\n",
    "with torch.no_grad():\n",
    "    for data in test_loader:\n",
    "        images = data[0].to(device)  # Move images to the device\n",
    "        \n",
    "        # Convert labels to numeric using the label mapping\n",
    "        # Assuming data[1] is a list of labels\n",
    "        numeric_labels = [label_map[label] for label in data[1]]\n",
    "        \n",
    "        # Create tensor from numeric labels\n",
    "        labels = torch.tensor(numeric_labels, dtype=torch.long).to(device)\n",
    "\n",
    "        outputs = model(images)\n",
    "        _, predicted = torch.max(outputs.data, 1)\n",
    "        total += labels.size(0)\n",
    "        correct += (predicted == labels).sum().item()\n",
    "\n",
    "# Print the accuracy\n",
    "accuracy = 100 * correct / total if total > 0 else 0  # Avoid division by zero\n",
    "print(f'Test data model accuracy: {accuracy:.2f}%')"
   ]
  },
  {
   "cell_type": "code",
   "execution_count": 12,
   "metadata": {},
   "outputs": [
    {
     "name": "stdout",
     "output_type": "stream",
     "text": [
      "Shape before fc1: torch.Size([8, 262144])\n"
     ]
    },
    {
     "data": {
      "image/png": "[encoded data removed]",
      "text/plain": [
       "<Figure size 1000x800 with 2 Axes>"
      ]
     },
     "metadata": {},
     "output_type": "display_data"
    }
   ],
   "source": [
    "import torch\n",
    "from sklearn.metrics import confusion_matrix\n",
    "import seaborn as sns\n",
    "import matplotlib.pyplot as plt\n",
    "\n",
    "# Ensure the model is in evaluation mode\n",
    "model.eval()\n",
    "\n",
    "all_predictions = []\n",
    "all_labels = []\n",
    "\n",
    "# Define your label mapping (ensure this is correct)\n",
    "label_map = {\n",
    "    'chalcedony': 0,\n",
    "    'jasper': 1,\n",
    "    'petrifiedwood': 2,\n",
    "    'quartz': 3\n",
    "}\n",
    "\n",
    "# No gradient computation during evaluation\n",
    "with torch.no_grad():\n",
    "    for data in test_loader:\n",
    "        images = data[0].to(device)\n",
    "        labels = data[1]\n",
    "\n",
    "        # Convert labels to indices\n",
    "        numeric_labels = [label_map[label] for label in labels]\n",
    "        labels_tensor = torch.tensor(numeric_labels, dtype=torch.long).to(device)\n",
    "\n",
    "        # Forward pass\n",
    "        outputs = model(images)\n",
    "        _, predicted = torch.max(outputs, 1)\n",
    "\n",
    "        # Collect predictions and labels\n",
    "        all_predictions.extend(predicted.cpu().numpy())\n",
    "        all_labels.extend(labels_tensor.cpu().numpy())\n",
    "\n",
    "\n",
    "# Create confusion matrix\n",
    "cm = confusion_matrix(all_labels, all_predictions)\n",
    "\n",
    "# Function to plot confusion matrix\n",
    "def plot_confusion_matrix(cm, classes):\n",
    "    plt.figure(figsize=(10, 8))\n",
    "    sns.heatmap(cm, annot=True, fmt='d', cmap='Blues',\n",
    "                xticklabels=classes, yticklabels=classes)\n",
    "    plt.ylabel('True label')\n",
    "    plt.xlabel('Predicted label')\n",
    "    plt.title('Confusion Matrix')\n",
    "    plt.show()\n",
    "\n",
    "# Class names corresponding to your labels\n",
    "class_names = ['chalcedony', 'jasper', 'petrifiedwood', 'quartz']\n",
    "\n",
    "# Plot the confusion matrix\n",
    "plot_confusion_matrix(cm, class_names)\n",
    "\n"
   ]
  }
 ],
 "metadata": {
  "kernelspec": {
   "display_name": "env",
   "language": "python",
   "name": "python3"
  },
  "language_info": {
   "codemirror_mode": {
    "name": "ipython",
    "version": 3
   },
   "file_extension": ".py",
   "mimetype": "text/x-python",
   "name": "python",
   "nbconvert_exporter": "python",
   "pygments_lexer": "ipython3",
   "version": "3.12.6"
  }
 },
 "nbformat": 4,
 "nbformat_minor": 2
}
